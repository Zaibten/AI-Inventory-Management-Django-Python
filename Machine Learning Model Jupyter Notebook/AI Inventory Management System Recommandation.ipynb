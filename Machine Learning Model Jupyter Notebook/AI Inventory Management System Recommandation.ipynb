{
 "cells": [
  {
   "cell_type": "markdown",
   "id": "22fad996-3ccf-43b9-82bf-5d45a8ed46d1",
   "metadata": {},
   "source": [
    "# AI Inventory Management System Backend Recommandation Using AI & ML"
   ]
  },
  {
   "cell_type": "markdown",
   "id": "b4991d58-9ad3-4c5b-911b-dca51b54aaff",
   "metadata": {},
   "source": [
    "# Step 1: Install required libraries"
   ]
  },
  {
   "cell_type": "code",
   "execution_count": 5,
   "id": "fea0078e-1ee2-4780-b4c8-f81f377b34fc",
   "metadata": {
    "scrolled": true
   },
   "outputs": [
    {
     "name": "stdout",
     "output_type": "stream",
     "text": [
      "Requirement already satisfied: pytrends in c:\\users\\lenovo\\appdata\\local\\programs\\python\\python310\\lib\\site-packages (4.9.2)\n",
      "Requirement already satisfied: lxml in c:\\users\\lenovo\\appdata\\local\\programs\\python\\python310\\lib\\site-packages (from pytrends) (5.3.0)\n",
      "Requirement already satisfied: requests>=2.0 in c:\\users\\lenovo\\appdata\\local\\programs\\python\\python310\\lib\\site-packages (from pytrends) (2.32.3)\n",
      "Requirement already satisfied: pandas>=0.25 in c:\\users\\lenovo\\appdata\\local\\programs\\python\\python310\\lib\\site-packages (from pytrends) (2.2.3)\n",
      "Requirement already satisfied: python-dateutil>=2.8.2 in c:\\users\\lenovo\\appdata\\local\\programs\\python\\python310\\lib\\site-packages (from pandas>=0.25->pytrends) (2.9.0.post0)\n",
      "Requirement already satisfied: tzdata>=2022.7 in c:\\users\\lenovo\\appdata\\local\\programs\\python\\python310\\lib\\site-packages (from pandas>=0.25->pytrends) (2024.2)\n",
      "Requirement already satisfied: pytz>=2020.1 in c:\\users\\lenovo\\appdata\\local\\programs\\python\\python310\\lib\\site-packages (from pandas>=0.25->pytrends) (2024.2)\n",
      "Requirement already satisfied: numpy>=1.22.4 in c:\\users\\lenovo\\appdata\\local\\programs\\python\\python310\\lib\\site-packages (from pandas>=0.25->pytrends) (1.26.4)\n",
      "Requirement already satisfied: six>=1.5 in c:\\users\\lenovo\\appdata\\local\\programs\\python\\python310\\lib\\site-packages (from python-dateutil>=2.8.2->pandas>=0.25->pytrends) (1.17.0)\n",
      "Requirement already satisfied: certifi>=2017.4.17 in c:\\users\\lenovo\\appdata\\local\\programs\\python\\python310\\lib\\site-packages (from requests>=2.0->pytrends) (2024.12.14)\n",
      "Requirement already satisfied: urllib3<3,>=1.21.1 in c:\\users\\lenovo\\appdata\\local\\programs\\python\\python310\\lib\\site-packages (from requests>=2.0->pytrends) (2.3.0)\n",
      "Requirement already satisfied: idna<4,>=2.5 in c:\\users\\lenovo\\appdata\\local\\programs\\python\\python310\\lib\\site-packages (from requests>=2.0->pytrends) (3.10)\n",
      "Requirement already satisfied: charset-normalizer<4,>=2 in c:\\users\\lenovo\\appdata\\local\\programs\\python\\python310\\lib\\site-packages (from requests>=2.0->pytrends) (3.4.1)\n"
     ]
    },
    {
     "name": "stderr",
     "output_type": "stream",
     "text": [
      "WARNING: You are using pip version 21.2.3; however, version 24.3.1 is available.\n",
      "You should consider upgrading via the 'C:\\Users\\lenovo\\AppData\\Local\\Programs\\Python\\Python310\\python.exe -m pip install --upgrade pip' command.\n"
     ]
    },
    {
     "name": "stdout",
     "output_type": "stream",
     "text": [
      "Requirement already satisfied: requests in c:\\users\\lenovo\\appdata\\local\\programs\\python\\python310\\lib\\site-packages (2.32.3)\n",
      "Requirement already satisfied: charset-normalizer<4,>=2 in c:\\users\\lenovo\\appdata\\local\\programs\\python\\python310\\lib\\site-packages (from requests) (3.4.1)\n",
      "Requirement already satisfied: urllib3<3,>=1.21.1 in c:\\users\\lenovo\\appdata\\local\\programs\\python\\python310\\lib\\site-packages (from requests) (2.3.0)\n",
      "Requirement already satisfied: idna<4,>=2.5 in c:\\users\\lenovo\\appdata\\local\\programs\\python\\python310\\lib\\site-packages (from requests) (3.10)\n",
      "Requirement already satisfied: certifi>=2017.4.17 in c:\\users\\lenovo\\appdata\\local\\programs\\python\\python310\\lib\\site-packages (from requests) (2024.12.14)\n"
     ]
    },
    {
     "name": "stderr",
     "output_type": "stream",
     "text": [
      "WARNING: You are using pip version 21.2.3; however, version 24.3.1 is available.\n",
      "You should consider upgrading via the 'C:\\Users\\lenovo\\AppData\\Local\\Programs\\Python\\Python310\\python.exe -m pip install --upgrade pip' command.\n"
     ]
    },
    {
     "name": "stdout",
     "output_type": "stream",
     "text": [
      "Requirement already satisfied: beautifulsoup4 in c:\\users\\lenovo\\appdata\\local\\programs\\python\\python310\\lib\\site-packages (4.12.3)\n",
      "Requirement already satisfied: soupsieve>1.2 in c:\\users\\lenovo\\appdata\\local\\programs\\python\\python310\\lib\\site-packages (from beautifulsoup4) (2.6)\n"
     ]
    },
    {
     "name": "stderr",
     "output_type": "stream",
     "text": [
      "WARNING: You are using pip version 21.2.3; however, version 24.3.1 is available.\n",
      "You should consider upgrading via the 'C:\\Users\\lenovo\\AppData\\Local\\Programs\\Python\\Python310\\python.exe -m pip install --upgrade pip' command.\n"
     ]
    },
    {
     "name": "stdout",
     "output_type": "stream",
     "text": [
      "Collecting scikit-learn\n",
      "  Using cached scikit_learn-1.6.0-cp310-cp310-win_amd64.whl (11.1 MB)\n",
      "Requirement already satisfied: numpy>=1.19.5 in c:\\users\\lenovo\\appdata\\local\\programs\\python\\python310\\lib\\site-packages (from scikit-learn) (1.26.4)\n",
      "Requirement already satisfied: joblib>=1.2.0 in c:\\users\\lenovo\\appdata\\local\\programs\\python\\python310\\lib\\site-packages (from scikit-learn) (1.4.2)\n",
      "Requirement already satisfied: threadpoolctl>=3.1.0 in c:\\users\\lenovo\\appdata\\local\\programs\\python\\python310\\lib\\site-packages (from scikit-learn) (3.5.0)\n",
      "Requirement already satisfied: scipy>=1.6.0 in c:\\users\\lenovo\\appdata\\local\\programs\\python\\python310\\lib\\site-packages (from scikit-learn) (1.15.0)\n",
      "Installing collected packages: scikit-learn\n",
      "Successfully installed scikit-learn-1.6.0\n"
     ]
    },
    {
     "name": "stderr",
     "output_type": "stream",
     "text": [
      "WARNING: You are using pip version 21.2.3; however, version 24.3.1 is available.\n",
      "You should consider upgrading via the 'C:\\Users\\lenovo\\AppData\\Local\\Programs\\Python\\Python310\\python.exe -m pip install --upgrade pip' command.\n"
     ]
    },
    {
     "name": "stdout",
     "output_type": "stream",
     "text": [
      "Requirement already satisfied: matplotlib in c:\\users\\lenovo\\appdata\\local\\programs\\python\\python310\\lib\\site-packages (3.10.0)"
     ]
    },
    {
     "name": "stderr",
     "output_type": "stream",
     "text": [
      "WARNING: You are using pip version 21.2.3; however, version 24.3.1 is available.\n",
      "You should consider upgrading via the 'C:\\Users\\lenovo\\AppData\\Local\\Programs\\Python\\Python310\\python.exe -m pip install --upgrade pip' command.\n"
     ]
    },
    {
     "name": "stdout",
     "output_type": "stream",
     "text": [
      "\n",
      "Requirement already satisfied: contourpy>=1.0.1 in c:\\users\\lenovo\\appdata\\local\\programs\\python\\python310\\lib\\site-packages (from matplotlib) (1.3.1)\n",
      "Requirement already satisfied: kiwisolver>=1.3.1 in c:\\users\\lenovo\\appdata\\local\\programs\\python\\python310\\lib\\site-packages (from matplotlib) (1.4.8)\n",
      "Requirement already satisfied: pyparsing>=2.3.1 in c:\\users\\lenovo\\appdata\\local\\programs\\python\\python310\\lib\\site-packages (from matplotlib) (3.2.1)\n",
      "Requirement already satisfied: packaging>=20.0 in c:\\users\\lenovo\\appdata\\local\\programs\\python\\python310\\lib\\site-packages (from matplotlib) (24.2)\n",
      "Requirement already satisfied: python-dateutil>=2.7 in c:\\users\\lenovo\\appdata\\local\\programs\\python\\python310\\lib\\site-packages (from matplotlib) (2.9.0.post0)\n",
      "Requirement already satisfied: fonttools>=4.22.0 in c:\\users\\lenovo\\appdata\\local\\programs\\python\\python310\\lib\\site-packages (from matplotlib) (4.55.3)\n",
      "Requirement already satisfied: numpy>=1.23 in c:\\users\\lenovo\\appdata\\local\\programs\\python\\python310\\lib\\site-packages (from matplotlib) (1.26.4)\n",
      "Requirement already satisfied: cycler>=0.10 in c:\\users\\lenovo\\appdata\\local\\programs\\python\\python310\\lib\\site-packages (from matplotlib) (0.12.1)\n",
      "Requirement already satisfied: pillow>=8 in c:\\users\\lenovo\\appdata\\local\\programs\\python\\python310\\lib\\site-packages (from matplotlib) (11.1.0)\n",
      "Requirement already satisfied: six>=1.5 in c:\\users\\lenovo\\appdata\\local\\programs\\python\\python310\\lib\\site-packages (from python-dateutil>=2.7->matplotlib) (1.17.0)\n"
     ]
    }
   ],
   "source": [
    "!pip install pytrends\n",
    "!pip install requests\n",
    "!pip install beautifulsoup4\n",
    "!pip install scikit-learn\n",
    "!pip install matplotlib"
   ]
  },
  {
   "cell_type": "code",
   "execution_count": 6,
   "id": "c4d18a40-7228-4fc4-9312-5cf6b7bc21dd",
   "metadata": {
    "scrolled": true
   },
   "outputs": [
    {
     "data": {
      "text/plain": [
       "<Figure size 1000x600 with 0 Axes>"
      ]
     },
     "metadata": {},
     "output_type": "display_data"
    },
    {
     "data": {
      "image/png": "[encoded data removed]",
      "text/plain": [
       "<Figure size 640x480 with 1 Axes>"
      ]
     },
     "metadata": {},
     "output_type": "display_data"
    },
    {
     "name": "stdout",
     "output_type": "stream",
     "text": [
      "Correlation between Ad Spend and Sales:\n",
      "           Ad_Spend    Sales\n",
      "Ad_Spend   1.00000  0.99553\n",
      "Sales      0.99553  1.00000\n"
     ]
    },
    {
     "data": {
      "image/png": "[encoded data removed]",
      "text/plain": [
       "<Figure size 1000x600 with 1 Axes>"
      ]
     },
     "metadata": {},
     "output_type": "display_data"
    },
    {
     "name": "stdout",
     "output_type": "stream",
     "text": [
      "\n",
      "Cosine Similarity Matrix between Products:\n",
      " [[1.         0.9999555  1.         0.99886814 0.99886814 0.99886814]\n",
      " [0.9999555  1.         0.9999555  0.9992724  0.9992724  0.9992724 ]\n",
      " [1.         0.9999555  1.         0.99886814 0.99886814 0.99886814]\n",
      " [0.99886814 0.9992724  0.99886814 1.         1.         1.        ]\n",
      " [0.99886814 0.9992724  0.99886814 1.         1.         1.        ]\n",
      " [0.99886814 0.9992724  0.99886814 1.         1.         1.        ]]\n",
      "\n",
      "Recommended Month to Advertise Based on Sales Trends:\n",
      "Category\n",
      "Jacket    3\n",
      "Khife     3\n",
      "dtype: int32\n",
      "Recommended month to advertise Khife: 3\n",
      "Recommended month to advertise Jacket: 3\n",
      "\n",
      "Based on the analysis, here is the strategy for advertisement:\n",
      "\n",
      "For Khife:\n",
      "- Average Sales: 61.666666666666664\n",
      "- Average Advertisement Spend: 250.0\n",
      "- Best Month to Advertise: 3\n",
      "\n",
      "For Jacket:\n",
      "- Average Sales: 120.0\n",
      "- Average Advertisement Spend: 600.0\n",
      "- Best Month to Advertise: 3\n"
     ]
    }
   ],
   "source": [
    "import pandas as pd\n",
    "import matplotlib.pyplot as plt\n",
    "from sklearn.metrics.pairwise import cosine_similarity\n",
    "\n",
    "# Example data: Sales, Advertisement, Product Category\n",
    "data = {\n",
    "    'Product': ['Khife', 'Khife', 'Khife', 'Jacket', 'Jacket', 'Jacket'],\n",
    "    'Date': ['2024-01-15', '2024-02-12', '2024-03-10', '2024-01-20', '2024-02-18', '2024-03-14'],\n",
    "    'Sales': [50, 60, 75, 100, 120, 140],\n",
    "    'Ad_Spend': [200, 250, 300, 500, 600, 700],\n",
    "    'Category': ['Khife', 'Khife', 'Khife', 'Jacket', 'Jacket', 'Jacket'],\n",
    "    'Region': ['Urban', 'Urban', 'Suburban', 'Urban', 'Suburban', 'Urban']\n",
    "}\n",
    "\n",
    "# Convert to DataFrame\n",
    "df = pd.DataFrame(data)\n",
    "df['Date'] = pd.to_datetime(df['Date'])\n",
    "\n",
    "# Extract Month and Year from Date\n",
    "df['Month'] = df['Date'].dt.month\n",
    "df['Year'] = df['Date'].dt.year\n",
    "\n",
    "# Trend Analysis: Sales Trends by Month and Category\n",
    "plt.figure(figsize=(10, 6))\n",
    "df.groupby(['Month', 'Category'])['Sales'].sum().unstack().plot(kind='line')\n",
    "plt.title('Sales Trend by Category')\n",
    "plt.xlabel('Month')\n",
    "plt.ylabel('Total Sales')\n",
    "plt.grid(True)\n",
    "plt.legend(title='Product Category')\n",
    "plt.show()\n",
    "\n",
    "# Advertisement Effectiveness: Correlation between Ad Spend and Sales\n",
    "correlation = df[['Ad_Spend', 'Sales']].corr()\n",
    "print(\"Correlation between Ad Spend and Sales:\\n\", correlation)\n",
    "\n",
    "# Scatter plot: Advertisement Spend vs Sales for each product category\n",
    "plt.figure(figsize=(10, 6))\n",
    "for product in df['Category'].unique():\n",
    "    product_data = df[df['Category'] == product]\n",
    "    plt.scatter(product_data['Ad_Spend'], product_data['Sales'], label=product)\n",
    "plt.title('Advertisement Spend vs Sales')\n",
    "plt.xlabel('Ad Spend')\n",
    "plt.ylabel('Sales')\n",
    "plt.legend()\n",
    "plt.show()\n",
    "\n",
    "# Content-Based Filtering: Similarity Based on Advertisement Spend and Sales\n",
    "features = df[['Ad_Spend', 'Sales']]\n",
    "cos_sim = cosine_similarity(features)\n",
    "print(\"\\nCosine Similarity Matrix between Products:\\n\", cos_sim)\n",
    "\n",
    "# Trend-Based Recommendation: Best Month to Advertise\n",
    "monthly_sales = df.groupby(['Month', 'Category'])['Sales'].sum().unstack()\n",
    "monthly_sales = monthly_sales.fillna(0)\n",
    "recommended_month = monthly_sales.idxmax(axis=0)\n",
    "print(\"\\nRecommended Month to Advertise Based on Sales Trends:\")\n",
    "print(recommended_month)\n",
    "\n",
    "# Identify the Month with Highest Sales for Each Product Category\n",
    "best_months = monthly_sales.idxmax(axis=0)\n",
    "for product in df['Category'].unique():\n",
    "    print(f\"Recommended month to advertise {product}: {best_months[product]}\")\n",
    "\n",
    "# Final Summary of Advertisement Strategy\n",
    "print(\"\\nBased on the analysis, here is the strategy for advertisement:\")\n",
    "for product in df['Category'].unique():\n",
    "    product_data = df[df['Category'] == product]\n",
    "    avg_sales = product_data['Sales'].mean()\n",
    "    avg_ad_spend = product_data['Ad_Spend'].mean()\n",
    "    best_month = best_months[product]\n",
    "    print(f\"\\nFor {product}:\")\n",
    "    print(f\"- Average Sales: {avg_sales}\")\n",
    "    print(f\"- Average Advertisement Spend: {avg_ad_spend}\")\n",
    "    print(f\"- Best Month to Advertise: {best_month}\")"
   ]
  },
  {
   "cell_type": "code",
   "execution_count": 7,
   "id": "b10bdc0f-11af-48fa-8cb0-401294a7bd47",
   "metadata": {},
   "outputs": [
    {
     "data": {
      "text/html": [
       "<div>\n",
       "<style scoped>\n",
       "    .dataframe tbody tr th:only-of-type {\n",
       "        vertical-align: middle;\n",
       "    }\n",
       "\n",
       "    .dataframe tbody tr th {\n",
       "        vertical-align: top;\n",
       "    }\n",
       "\n",
       "    .dataframe thead th {\n",
       "        text-align: right;\n",
       "    }\n",
       "</style>\n",
       "<table border=\"1\" class=\"dataframe\">\n",
       "  <thead>\n",
       "    <tr style=\"text-align: right;\">\n",
       "      <th></th>\n",
       "      <th>Product</th>\n",
       "      <th>Date</th>\n",
       "      <th>Sales</th>\n",
       "      <th>Ad_Spend</th>\n",
       "      <th>Category</th>\n",
       "      <th>Region</th>\n",
       "      <th>Month</th>\n",
       "      <th>Year</th>\n",
       "    </tr>\n",
       "  </thead>\n",
       "  <tbody>\n",
       "    <tr>\n",
       "      <th>0</th>\n",
       "      <td>Khife</td>\n",
       "      <td>2024-01-15</td>\n",
       "      <td>50</td>\n",
       "      <td>200</td>\n",
       "      <td>Khife</td>\n",
       "      <td>Urban</td>\n",
       "      <td>1</td>\n",
       "      <td>2024</td>\n",
       "    </tr>\n",
       "    <tr>\n",
       "      <th>1</th>\n",
       "      <td>Khife</td>\n",
       "      <td>2024-02-12</td>\n",
       "      <td>60</td>\n",
       "      <td>250</td>\n",
       "      <td>Khife</td>\n",
       "      <td>Urban</td>\n",
       "      <td>2</td>\n",
       "      <td>2024</td>\n",
       "    </tr>\n",
       "    <tr>\n",
       "      <th>2</th>\n",
       "      <td>Khife</td>\n",
       "      <td>2024-03-10</td>\n",
       "      <td>75</td>\n",
       "      <td>300</td>\n",
       "      <td>Khife</td>\n",
       "      <td>Suburban</td>\n",
       "      <td>3</td>\n",
       "      <td>2024</td>\n",
       "    </tr>\n",
       "    <tr>\n",
       "      <th>3</th>\n",
       "      <td>Jacket</td>\n",
       "      <td>2024-01-20</td>\n",
       "      <td>100</td>\n",
       "      <td>500</td>\n",
       "      <td>Jacket</td>\n",
       "      <td>Urban</td>\n",
       "      <td>1</td>\n",
       "      <td>2024</td>\n",
       "    </tr>\n",
       "    <tr>\n",
       "      <th>4</th>\n",
       "      <td>Jacket</td>\n",
       "      <td>2024-02-18</td>\n",
       "      <td>120</td>\n",
       "      <td>600</td>\n",
       "      <td>Jacket</td>\n",
       "      <td>Suburban</td>\n",
       "      <td>2</td>\n",
       "      <td>2024</td>\n",
       "    </tr>\n",
       "    <tr>\n",
       "      <th>5</th>\n",
       "      <td>Jacket</td>\n",
       "      <td>2024-03-14</td>\n",
       "      <td>140</td>\n",
       "      <td>700</td>\n",
       "      <td>Jacket</td>\n",
       "      <td>Urban</td>\n",
       "      <td>3</td>\n",
       "      <td>2024</td>\n",
       "    </tr>\n",
       "  </tbody>\n",
       "</table>\n",
       "</div>"
      ],
      "text/plain": [
       "  Product       Date  Sales  Ad_Spend Category    Region  Month  Year\n",
       "0   Khife 2024-01-15     50       200    Khife     Urban      1  2024\n",
       "1   Khife 2024-02-12     60       250    Khife     Urban      2  2024\n",
       "2   Khife 2024-03-10     75       300    Khife  Suburban      3  2024\n",
       "3  Jacket 2024-01-20    100       500   Jacket     Urban      1  2024\n",
       "4  Jacket 2024-02-18    120       600   Jacket  Suburban      2  2024\n",
       "5  Jacket 2024-03-14    140       700   Jacket     Urban      3  2024"
      ]
     },
     "execution_count": 7,
     "metadata": {},
     "output_type": "execute_result"
    }
   ],
   "source": [
    "df"
   ]
  },
  {
   "cell_type": "markdown",
   "id": "b59f1acd-fa5b-4f0f-8b7c-8ecf40dac810",
   "metadata": {},
   "source": [
    "# Chatbot Using AI & NLP"
   ]
  },
  {
   "cell_type": "code",
   "execution_count": 4,
   "id": "600ca081-d2b3-47f5-9ae4-a5b66ad7d2c2",
   "metadata": {},
   "outputs": [
    {
     "name": "stderr",
     "output_type": "stream",
     "text": [
      "[nltk_data] Downloading package punkt to\n",
      "[nltk_data]     C:\\Users\\lenovo\\AppData\\Roaming\\nltk_data...\n",
      "[nltk_data]   Package punkt is already up-to-date!\n",
      "[nltk_data] Downloading package wordnet to\n",
      "[nltk_data]     C:\\Users\\lenovo\\AppData\\Roaming\\nltk_data...\n",
      "[nltk_data]   Package wordnet is already up-to-date!\n"
     ]
    },
    {
     "name": "stdout",
     "output_type": "stream",
     "text": [
      "Chatbot: Hi! I'm your friendly chatbot. Type 'exit' to end the chat.\n"
     ]
    },
    {
     "name": "stdin",
     "output_type": "stream",
     "text": [
      "You:  exit\n"
     ]
    },
    {
     "name": "stdout",
     "output_type": "stream",
     "text": [
      "Chatbot: Goodbye!\n"
     ]
    }
   ],
   "source": [
    "# Import required libraries\n",
    "import nltk\n",
    "from nltk.chat.util import Chat, reflections\n",
    "from sklearn.feature_extraction.text import TfidfVectorizer\n",
    "from sklearn.metrics.pairwise import cosine_similarity\n",
    "import random\n",
    "import spacy\n",
    "\n",
    "# Download necessary NLTK data\n",
    "nltk.download('punkt')\n",
    "nltk.download('wordnet')\n",
    "\n",
    "# Predefined responses and intents\n",
    "responses = {\n",
    "    \"greeting\": [\"Hello! How can I help you?\", \"Hi there! What can I do for you?\", \"Hey! How can I assist you?\"],\n",
    "    \"goodbye\": [\"Goodbye! Have a great day!\", \"Bye! Take care!\", \"See you later!\"],\n",
    "    \"thanks\": [\"You're welcome!\", \"No problem!\", \"Happy to help!\"],\n",
    "    \"default\": [\"I'm sorry, I didn't understand that.\", \"Can you please rephrase?\", \"I'm not sure I follow.\"],\n",
    "}\n",
    "\n",
    "# Dataset for training chatbot intents\n",
    "chat_data = {\n",
    "    \"greeting\": [\"hi\", \"hello\", \"hey\", \"good morning\", \"good evening\"],\n",
    "    \"goodbye\": [\"bye\", \"goodbye\", \"see you later\", \"farewell\"],\n",
    "    \"thanks\": [\"thank you\", \"thanks\", \"I appreciate it\", \"thanks a lot\"],\n",
    "}\n",
    "\n",
    "# Function to preprocess text\n",
    "nlp = spacy.load(\"en_core_web_sm\")\n",
    "\n",
    "def preprocess(text):\n",
    "    doc = nlp(text.lower())\n",
    "    return \" \".join([token.lemma_ for token in doc if not token.is_stop and not token.is_punct])\n",
    "\n",
    "# Build training dataset\n",
    "training_sentences = []\n",
    "training_labels = []\n",
    "for intent, sentences in chat_data.items():\n",
    "    for sentence in sentences:\n",
    "        training_sentences.append(preprocess(sentence))\n",
    "        training_labels.append(intent)\n",
    "\n",
    "# Vectorize the text\n",
    "vectorizer = TfidfVectorizer()\n",
    "X_train = vectorizer.fit_transform(training_sentences)\n",
    "\n",
    "# Function to get the chatbot response\n",
    "def get_response(user_input):\n",
    "    user_input_preprocessed = preprocess(user_input)\n",
    "    user_vector = vectorizer.transform([user_input_preprocessed])\n",
    "    similarity_scores = cosine_similarity(user_vector, X_train)\n",
    "\n",
    "    # Get the best matching response\n",
    "    max_score_index = similarity_scores.argmax()\n",
    "    max_score = similarity_scores[0, max_score_index]\n",
    "\n",
    "    if max_score > 0.5:  # Threshold for matching\n",
    "        intent = training_labels[max_score_index]\n",
    "        return random.choice(responses.get(intent, responses[\"default\"]))\n",
    "    else:\n",
    "        return random.choice(responses[\"default\"])\n",
    "\n",
    "# Chatbot interaction\n",
    "def chatbot():\n",
    "    print(\"Chatbot: Hi! I'm your friendly chatbot. Type 'exit' to end the chat.\")\n",
    "    while True:\n",
    "        user_input = input(\"You: \")\n",
    "        if user_input.lower() == \"exit\":\n",
    "            print(\"Chatbot: Goodbye!\")\n",
    "            break\n",
    "        response = get_response(user_input)\n",
    "        print(f\"Chatbot: {response}\")\n",
    "\n",
    "# Run the chatbot\n",
    "chatbot()"
   ]
  },
  {
   "cell_type": "code",
   "execution_count": null,
   "id": "a1a107e8-80c6-4b32-9f0d-fb7e314d3bab",
   "metadata": {},
   "outputs": [],
   "source": []
  }
 ],
 "metadata": {
  "kernelspec": {
   "display_name": "Python 3 (ipykernel)",
   "language": "python",
   "name": "python3"
  },
  "language_info": {
   "codemirror_mode": {
    "name": "ipython",
    "version": 3
   },
   "file_extension": ".py",
   "mimetype": "text/x-python",
   "name": "python",
   "nbconvert_exporter": "python",
   "pygments_lexer": "ipython3",
   "version": "3.12.5"
  }
 },
 "nbformat": 4,
 "nbformat_minor": 5
}
